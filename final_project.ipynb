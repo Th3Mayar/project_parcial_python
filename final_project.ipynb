{
  "nbformat": 4,
  "nbformat_minor": 0,
  "metadata": {
    "colab": {
      "provenance": [],
      "authorship_tag": "ABX9TyMhhBOQr/AbHUar6/IM9EOs",
      "include_colab_link": true
    },
    "kernelspec": {
      "name": "python3",
      "display_name": "Python 3"
    },
    "language_info": {
      "name": "python"
    }
  },
  "cells": [
    {
      "cell_type": "markdown",
      "metadata": {
        "id": "view-in-github",
        "colab_type": "text"
      },
      "source": [
        "<a href=\"https://colab.research.google.com/github/Th3Mayar/project_parcial_python/blob/main/final_project.ipynb\" target=\"_parent\"><img src=\"https://colab.research.google.com/assets/colab-badge.svg\" alt=\"Open In Colab\"/></a>"
      ]
    },
    {
      "cell_type": "markdown",
      "source": [
        "# **Examen o Proyecto (1) Python - 20220115**"
      ],
      "metadata": {
        "id": "13Q95KKfHles"
      }
    },
    {
      "cell_type": "markdown",
      "source": [
        "## *Imports* libraries"
      ],
      "metadata": {
        "id": "vhAI2wO6ExHK"
      }
    },
    {
      "cell_type": "code",
      "source": [
        "import pandas as pd\n",
        "import numpy as np"
      ],
      "metadata": {
        "id": "MBhWNgzcEncl"
      },
      "execution_count": null,
      "outputs": []
    },
    {
      "cell_type": "markdown",
      "source": [
        "## Problema 1: Análisis de Ventas de un Supermercado"
      ],
      "metadata": {
        "id": "Ux4kHlsXE7Si"
      }
    },
    {
      "cell_type": "code",
      "execution_count": null,
      "metadata": {
        "colab": {
          "base_uri": "https://localhost:8080/",
          "height": 501
        },
        "id": "5eOMlCfcBlRX",
        "outputId": "1dcea1fc-31e3-4bd4-a549-9bc0a399e3e8"
      },
      "outputs": [
        {
          "output_type": "stream",
          "name": "stdout",
          "text": [
            "Total sales by product:\n",
            "Producto\n",
            "Naranja    45.0\n",
            "Manzana    43.2\n",
            "Pera       14.2\n",
            "Banana      7.0\n",
            "Name: Total Sale, dtype: float64\n",
            "\n",
            "Sales in the month of March:\n",
            "       Fecha Producto  Cantidad  Precio  Descuento  Total Sale\n",
            "0 2024-03-01  Manzana        10     2.5        1.0        24.0\n",
            "1 2024-03-05   Banana         5     1.5        0.5         7.0\n",
            "3 2024-03-15     Pera         7     2.2        1.2        14.2\n",
            "4 2024-03-20  Manzana         8     2.5        0.8        19.2\n",
            "\n",
            "Array of total sales in March: [ 7.  43.2 14.2]\n",
            "Average sales in March: 21.46666666666667\n"
          ]
        },
        {
          "output_type": "execute_result",
          "data": {
            "text/plain": [
              "<pandas.io.formats.style.Styler at 0x7c48b673a6e0>"
            ],
            "text/html": [
              "<style type=\"text/css\">\n",
              "#T_49e28_row1_col5 {\n",
              "  background-color: lightcoral;\n",
              "}\n",
              "#T_49e28_row2_col5 {\n",
              "  background-color: lightgreen;\n",
              "}\n",
              "</style>\n",
              "<table id=\"T_49e28\" class=\"dataframe\">\n",
              "  <thead>\n",
              "    <tr>\n",
              "      <th class=\"blank level0\" >&nbsp;</th>\n",
              "      <th id=\"T_49e28_level0_col0\" class=\"col_heading level0 col0\" >Fecha</th>\n",
              "      <th id=\"T_49e28_level0_col1\" class=\"col_heading level0 col1\" >Producto</th>\n",
              "      <th id=\"T_49e28_level0_col2\" class=\"col_heading level0 col2\" >Cantidad</th>\n",
              "      <th id=\"T_49e28_level0_col3\" class=\"col_heading level0 col3\" >Precio</th>\n",
              "      <th id=\"T_49e28_level0_col4\" class=\"col_heading level0 col4\" >Descuento</th>\n",
              "      <th id=\"T_49e28_level0_col5\" class=\"col_heading level0 col5\" >Total Sale</th>\n",
              "    </tr>\n",
              "  </thead>\n",
              "  <tbody>\n",
              "    <tr>\n",
              "      <th id=\"T_49e28_level0_row0\" class=\"row_heading level0 row0\" >0</th>\n",
              "      <td id=\"T_49e28_row0_col0\" class=\"data row0 col0\" >2024-03-01 00:00:00</td>\n",
              "      <td id=\"T_49e28_row0_col1\" class=\"data row0 col1\" >Manzana</td>\n",
              "      <td id=\"T_49e28_row0_col2\" class=\"data row0 col2\" >10</td>\n",
              "      <td id=\"T_49e28_row0_col3\" class=\"data row0 col3\" >2.500000</td>\n",
              "      <td id=\"T_49e28_row0_col4\" class=\"data row0 col4\" >1.000000</td>\n",
              "      <td id=\"T_49e28_row0_col5\" class=\"data row0 col5\" >24.000000</td>\n",
              "    </tr>\n",
              "    <tr>\n",
              "      <th id=\"T_49e28_level0_row1\" class=\"row_heading level0 row1\" >1</th>\n",
              "      <td id=\"T_49e28_row1_col0\" class=\"data row1 col0\" >2024-03-05 00:00:00</td>\n",
              "      <td id=\"T_49e28_row1_col1\" class=\"data row1 col1\" >Banana</td>\n",
              "      <td id=\"T_49e28_row1_col2\" class=\"data row1 col2\" >5</td>\n",
              "      <td id=\"T_49e28_row1_col3\" class=\"data row1 col3\" >1.500000</td>\n",
              "      <td id=\"T_49e28_row1_col4\" class=\"data row1 col4\" >0.500000</td>\n",
              "      <td id=\"T_49e28_row1_col5\" class=\"data row1 col5\" >7.000000</td>\n",
              "    </tr>\n",
              "    <tr>\n",
              "      <th id=\"T_49e28_level0_row2\" class=\"row_heading level0 row2\" >2</th>\n",
              "      <td id=\"T_49e28_row2_col0\" class=\"data row2 col0\" >2024-04-01 00:00:00</td>\n",
              "      <td id=\"T_49e28_row2_col1\" class=\"data row2 col1\" >Naranja</td>\n",
              "      <td id=\"T_49e28_row2_col2\" class=\"data row2 col2\" >15</td>\n",
              "      <td id=\"T_49e28_row2_col3\" class=\"data row2 col3\" >3.000000</td>\n",
              "      <td id=\"T_49e28_row2_col4\" class=\"data row2 col4\" >0.000000</td>\n",
              "      <td id=\"T_49e28_row2_col5\" class=\"data row2 col5\" >45.000000</td>\n",
              "    </tr>\n",
              "    <tr>\n",
              "      <th id=\"T_49e28_level0_row3\" class=\"row_heading level0 row3\" >3</th>\n",
              "      <td id=\"T_49e28_row3_col0\" class=\"data row3 col0\" >2024-03-15 00:00:00</td>\n",
              "      <td id=\"T_49e28_row3_col1\" class=\"data row3 col1\" >Pera</td>\n",
              "      <td id=\"T_49e28_row3_col2\" class=\"data row3 col2\" >7</td>\n",
              "      <td id=\"T_49e28_row3_col3\" class=\"data row3 col3\" >2.200000</td>\n",
              "      <td id=\"T_49e28_row3_col4\" class=\"data row3 col4\" >1.200000</td>\n",
              "      <td id=\"T_49e28_row3_col5\" class=\"data row3 col5\" >14.200000</td>\n",
              "    </tr>\n",
              "    <tr>\n",
              "      <th id=\"T_49e28_level0_row4\" class=\"row_heading level0 row4\" >4</th>\n",
              "      <td id=\"T_49e28_row4_col0\" class=\"data row4 col0\" >2024-03-20 00:00:00</td>\n",
              "      <td id=\"T_49e28_row4_col1\" class=\"data row4 col1\" >Manzana</td>\n",
              "      <td id=\"T_49e28_row4_col2\" class=\"data row4 col2\" >8</td>\n",
              "      <td id=\"T_49e28_row4_col3\" class=\"data row4 col3\" >2.500000</td>\n",
              "      <td id=\"T_49e28_row4_col4\" class=\"data row4 col4\" >0.800000</td>\n",
              "      <td id=\"T_49e28_row4_col5\" class=\"data row4 col5\" >19.200000</td>\n",
              "    </tr>\n",
              "  </tbody>\n",
              "</table>\n"
            ]
          },
          "metadata": {},
          "execution_count": 28
        }
      ],
      "source": [
        "# Load data from the CSV file\n",
        "df_sales = pd.read_csv('/content/data_used/ventas_supermercado.csv')\n",
        "\n",
        "# Convert the 'Date' column to datetime format\n",
        "df_sales['Fecha'] = pd.to_datetime(df_sales['Fecha'])\n",
        "\n",
        "# 1. Add a new column 'Total Sale'\n",
        "df_sales['Total Sale'] = df_sales['Cantidad'] * df_sales['Precio'] - df_sales['Descuento']\n",
        "\n",
        "# 2. Calculate total sales by product and sort them in descending order\n",
        "total_sales = df_sales.groupby('Producto')['Total Sale'].sum().sort_values(ascending=False)\n",
        "print(\"Total sales by product:\")\n",
        "print(total_sales)\n",
        "\n",
        "# 3. Filter sales made in the month of March\n",
        "march_sales = df_sales[df_sales['Fecha'].dt.month == 3]\n",
        "print(\"\\nSales in the month of March:\")\n",
        "print(march_sales)\n",
        "\n",
        "# 4. Generate a NumPy array with total sales in March by product\n",
        "march_total_sales = march_sales.groupby('Producto')['Total Sale'].sum()\n",
        "march_sales_array = np.array(march_total_sales)\n",
        "print(\"\\nArray of total sales in March:\", march_sales_array)\n",
        "\n",
        "# 5. Calculate the average sales in March\n",
        "march_sales_avg = np.mean(march_sales_array)\n",
        "print(\"Average sales in March:\", march_sales_avg)\n",
        "\n",
        "# Style the total sales table highlighting the highest and lowest values\n",
        "styled_sales = df_sales.style.highlight_max(subset=['Total Sale'], color='lightgreen')\\\n",
        "                               .highlight_min(subset=['Total Sale'], color='lightcoral')\n",
        "styled_sales"
      ]
    },
    {
      "cell_type": "markdown",
      "source": [
        "## Problema 2: Análisis de Rendimiento Académico"
      ],
      "metadata": {
        "id": "n9cV-4uZFHRq"
      }
    },
    {
      "cell_type": "code",
      "source": [
        "# Load data from the CSV file\n",
        "df_students = pd.read_csv('/content/data_used/calificaciones_estudiantes.csv')\n",
        "\n",
        "# 1. Add a column \"Average\" with the average of the three grades\n",
        "df_students['Average'] = df_students[['Matemáticas', 'Ciencias', 'Historia']].mean(axis=1)\n",
        "\n",
        "# 2. Assign \"Passed\" or \"Failed\" in a new column called \"Status\"\n",
        "df_students['Status'] = np.where(df_students['Average'] >= 60, 'Passed', 'Failed')\n",
        "\n",
        "# 3. Count how many students have passed and how many have failed\n",
        "passed_students = (df_students['Status'] == 'Passed').sum()\n",
        "failed_students = (df_students['Status'] == 'Failed').sum()\n",
        "print(f\"Passed students: {passed_students}, Failed students: {failed_students}\")\n",
        "\n",
        "# 4. Filter students who passed all subjects with grades >= 70\n",
        "passed_all = df_students[\n",
        "    (df_students['Matemáticas'] >= 70) &\n",
        "    (df_students['Ciencias'] >= 70) &\n",
        "    (df_students['Historia'] >= 70)\n",
        "]\n",
        "print(\"\\nStudents who passed all subjects with >= 70 in each one:\")\n",
        "print(passed_all)\n",
        "\n",
        "# Style the student table highlighting \"Passed\" in green and \"Failed\" in red\n",
        "styled_students = df_students.style.applymap(lambda x: 'background-color: lightgreen' if x == 'Passed' else 'background-color: lightcoral', subset=['Status'])\n",
        "styled_students"
      ],
      "metadata": {
        "colab": {
          "base_uri": "https://localhost:8080/",
          "height": 345
        },
        "id": "Web3DeT8Cvtr",
        "outputId": "fe64f75a-9354-40a3-ff88-005a95b7c0ff"
      },
      "execution_count": null,
      "outputs": [
        {
          "output_type": "stream",
          "name": "stdout",
          "text": [
            "Passed students: 4, Failed students: 1\n",
            "\n",
            "Students who passed all subjects with >= 70 in each one:\n",
            "  Nombre  Matemáticas  Ciencias  Historia    Average  Status\n",
            "0    Ana           85        90        88  87.666667  Passed\n",
            "4  Pedro           95        80        90  88.333333  Passed\n"
          ]
        },
        {
          "output_type": "stream",
          "name": "stderr",
          "text": [
            "<ipython-input-29-e51f90872473>:25: FutureWarning: Styler.applymap has been deprecated. Use Styler.map instead.\n",
            "  styled_students = df_students.style.applymap(lambda x: 'background-color: lightgreen' if x == 'Passed' else 'background-color: lightcoral', subset=['Status'])\n"
          ]
        },
        {
          "output_type": "execute_result",
          "data": {
            "text/plain": [
              "<pandas.io.formats.style.Styler at 0x7c48b6739f90>"
            ],
            "text/html": [
              "<style type=\"text/css\">\n",
              "#T_d6de6_row0_col5, #T_d6de6_row1_col5, #T_d6de6_row3_col5, #T_d6de6_row4_col5 {\n",
              "  background-color: lightgreen;\n",
              "}\n",
              "#T_d6de6_row2_col5 {\n",
              "  background-color: lightcoral;\n",
              "}\n",
              "</style>\n",
              "<table id=\"T_d6de6\" class=\"dataframe\">\n",
              "  <thead>\n",
              "    <tr>\n",
              "      <th class=\"blank level0\" >&nbsp;</th>\n",
              "      <th id=\"T_d6de6_level0_col0\" class=\"col_heading level0 col0\" >Nombre</th>\n",
              "      <th id=\"T_d6de6_level0_col1\" class=\"col_heading level0 col1\" >Matemáticas</th>\n",
              "      <th id=\"T_d6de6_level0_col2\" class=\"col_heading level0 col2\" >Ciencias</th>\n",
              "      <th id=\"T_d6de6_level0_col3\" class=\"col_heading level0 col3\" >Historia</th>\n",
              "      <th id=\"T_d6de6_level0_col4\" class=\"col_heading level0 col4\" >Average</th>\n",
              "      <th id=\"T_d6de6_level0_col5\" class=\"col_heading level0 col5\" >Status</th>\n",
              "    </tr>\n",
              "  </thead>\n",
              "  <tbody>\n",
              "    <tr>\n",
              "      <th id=\"T_d6de6_level0_row0\" class=\"row_heading level0 row0\" >0</th>\n",
              "      <td id=\"T_d6de6_row0_col0\" class=\"data row0 col0\" >Ana</td>\n",
              "      <td id=\"T_d6de6_row0_col1\" class=\"data row0 col1\" >85</td>\n",
              "      <td id=\"T_d6de6_row0_col2\" class=\"data row0 col2\" >90</td>\n",
              "      <td id=\"T_d6de6_row0_col3\" class=\"data row0 col3\" >88</td>\n",
              "      <td id=\"T_d6de6_row0_col4\" class=\"data row0 col4\" >87.666667</td>\n",
              "      <td id=\"T_d6de6_row0_col5\" class=\"data row0 col5\" >Passed</td>\n",
              "    </tr>\n",
              "    <tr>\n",
              "      <th id=\"T_d6de6_level0_row1\" class=\"row_heading level0 row1\" >1</th>\n",
              "      <td id=\"T_d6de6_row1_col0\" class=\"data row1 col0\" >Luis</td>\n",
              "      <td id=\"T_d6de6_row1_col1\" class=\"data row1 col1\" >60</td>\n",
              "      <td id=\"T_d6de6_row1_col2\" class=\"data row1 col2\" >55</td>\n",
              "      <td id=\"T_d6de6_row1_col3\" class=\"data row1 col3\" >72</td>\n",
              "      <td id=\"T_d6de6_row1_col4\" class=\"data row1 col4\" >62.333333</td>\n",
              "      <td id=\"T_d6de6_row1_col5\" class=\"data row1 col5\" >Passed</td>\n",
              "    </tr>\n",
              "    <tr>\n",
              "      <th id=\"T_d6de6_level0_row2\" class=\"row_heading level0 row2\" >2</th>\n",
              "      <td id=\"T_d6de6_row2_col0\" class=\"data row2 col0\" >Juan</td>\n",
              "      <td id=\"T_d6de6_row2_col1\" class=\"data row2 col1\" >45</td>\n",
              "      <td id=\"T_d6de6_row2_col2\" class=\"data row2 col2\" >50</td>\n",
              "      <td id=\"T_d6de6_row2_col3\" class=\"data row2 col3\" >65</td>\n",
              "      <td id=\"T_d6de6_row2_col4\" class=\"data row2 col4\" >53.333333</td>\n",
              "      <td id=\"T_d6de6_row2_col5\" class=\"data row2 col5\" >Failed</td>\n",
              "    </tr>\n",
              "    <tr>\n",
              "      <th id=\"T_d6de6_level0_row3\" class=\"row_heading level0 row3\" >3</th>\n",
              "      <td id=\"T_d6de6_row3_col0\" class=\"data row3 col0\" >María</td>\n",
              "      <td id=\"T_d6de6_row3_col1\" class=\"data row3 col1\" >70</td>\n",
              "      <td id=\"T_d6de6_row3_col2\" class=\"data row3 col2\" >85</td>\n",
              "      <td id=\"T_d6de6_row3_col3\" class=\"data row3 col3\" >60</td>\n",
              "      <td id=\"T_d6de6_row3_col4\" class=\"data row3 col4\" >71.666667</td>\n",
              "      <td id=\"T_d6de6_row3_col5\" class=\"data row3 col5\" >Passed</td>\n",
              "    </tr>\n",
              "    <tr>\n",
              "      <th id=\"T_d6de6_level0_row4\" class=\"row_heading level0 row4\" >4</th>\n",
              "      <td id=\"T_d6de6_row4_col0\" class=\"data row4 col0\" >Pedro</td>\n",
              "      <td id=\"T_d6de6_row4_col1\" class=\"data row4 col1\" >95</td>\n",
              "      <td id=\"T_d6de6_row4_col2\" class=\"data row4 col2\" >80</td>\n",
              "      <td id=\"T_d6de6_row4_col3\" class=\"data row4 col3\" >90</td>\n",
              "      <td id=\"T_d6de6_row4_col4\" class=\"data row4 col4\" >88.333333</td>\n",
              "      <td id=\"T_d6de6_row4_col5\" class=\"data row4 col5\" >Passed</td>\n",
              "    </tr>\n",
              "  </tbody>\n",
              "</table>\n"
            ]
          },
          "metadata": {},
          "execution_count": 29
        }
      ]
    },
    {
      "cell_type": "markdown",
      "source": [
        "## Problema 3: Simulación de Inventario de una Tienda"
      ],
      "metadata": {
        "id": "n6_6dqasFRiS"
      }
    },
    {
      "cell_type": "code",
      "source": [
        "# Load data from the CSV file\n",
        "df_inventory = pd.read_csv('/content/data_used/inventario_tienda.csv')\n",
        "\n",
        "# 1. Create a new column 'Total Value in Inventory'\n",
        "df_inventory['Total Value in Inventory'] = df_inventory['Cantidad'] * df_inventory['Precio unitario']\n",
        "\n",
        "# 2. Generate a NumPy array with the total values in inventory\n",
        "inventory_value_array = np.array(df_inventory['Total Value in Inventory'])\n",
        "print(\"Array of total values in inventory:\", inventory_value_array)\n",
        "\n",
        "# 3. Calculate the cost of restocking products with quantity less than 20\n",
        "df_inventory['Restocking Cost'] = np.where(df_inventory['Cantidad'] < 20,\n",
        "                                           (50 - df_inventory['Cantidad']) * df_inventory['Costo de reabastecimiento'],\n",
        "                                           0)\n",
        "\n",
        "# 4. Filter products that need restocking and sort them by restocking cost\n",
        "products_to_restock = df_inventory[df_inventory['Cantidad'] < 20].sort_values(by='Restocking Cost', ascending=False)\n",
        "print(\"\\nProducts that need restocking:\")\n",
        "print(products_to_restock)\n",
        "\n",
        "# Style the inventory table, highlighting products with low inventory (<20) and formatting columns as currency\n",
        "styled_inventory = df_inventory.style.format({\n",
        "    'Total Value in Inventory': '${:,.2f}',\n",
        "    'Restocking Cost': '${:,.2f}'\n",
        "}).highlight_min(subset=['Cantidad'], color='lightcoral', axis=0)\n",
        "styled_inventory"
      ],
      "metadata": {
        "colab": {
          "base_uri": "https://localhost:8080/",
          "height": 380
        },
        "id": "ZN29u3P_CzIK",
        "outputId": "73e0b2f3-2466-421b-abf3-1d6391f18946"
      },
      "execution_count": null,
      "outputs": [
        {
          "output_type": "stream",
          "name": "stdout",
          "text": [
            "Array of total values in inventory: [25000  5000  5400  7000  2500]\n",
            "\n",
            "Products that need restocking:\n",
            "  Producto  Cantidad  Precio unitario  Costo de reabastecimiento  \\\n",
            "1  Celular        10              500                        450   \n",
            "2   Tablet        18              300                        270   \n",
            "\n",
            "   Total Value in Inventory  Restocking Cost  \n",
            "1                      5000            18000  \n",
            "2                      5400             8640  \n"
          ]
        },
        {
          "output_type": "execute_result",
          "data": {
            "text/plain": [
              "<pandas.io.formats.style.Styler at 0x7c48b6739630>"
            ],
            "text/html": [
              "<style type=\"text/css\">\n",
              "#T_f3020_row1_col1 {\n",
              "  background-color: lightcoral;\n",
              "}\n",
              "</style>\n",
              "<table id=\"T_f3020\" class=\"dataframe\">\n",
              "  <thead>\n",
              "    <tr>\n",
              "      <th class=\"blank level0\" >&nbsp;</th>\n",
              "      <th id=\"T_f3020_level0_col0\" class=\"col_heading level0 col0\" >Producto</th>\n",
              "      <th id=\"T_f3020_level0_col1\" class=\"col_heading level0 col1\" >Cantidad</th>\n",
              "      <th id=\"T_f3020_level0_col2\" class=\"col_heading level0 col2\" >Precio unitario</th>\n",
              "      <th id=\"T_f3020_level0_col3\" class=\"col_heading level0 col3\" >Costo de reabastecimiento</th>\n",
              "      <th id=\"T_f3020_level0_col4\" class=\"col_heading level0 col4\" >Total Value in Inventory</th>\n",
              "      <th id=\"T_f3020_level0_col5\" class=\"col_heading level0 col5\" >Restocking Cost</th>\n",
              "    </tr>\n",
              "  </thead>\n",
              "  <tbody>\n",
              "    <tr>\n",
              "      <th id=\"T_f3020_level0_row0\" class=\"row_heading level0 row0\" >0</th>\n",
              "      <td id=\"T_f3020_row0_col0\" class=\"data row0 col0\" >Laptop</td>\n",
              "      <td id=\"T_f3020_row0_col1\" class=\"data row0 col1\" >25</td>\n",
              "      <td id=\"T_f3020_row0_col2\" class=\"data row0 col2\" >1000</td>\n",
              "      <td id=\"T_f3020_row0_col3\" class=\"data row0 col3\" >900</td>\n",
              "      <td id=\"T_f3020_row0_col4\" class=\"data row0 col4\" >$25,000.00</td>\n",
              "      <td id=\"T_f3020_row0_col5\" class=\"data row0 col5\" >$0.00</td>\n",
              "    </tr>\n",
              "    <tr>\n",
              "      <th id=\"T_f3020_level0_row1\" class=\"row_heading level0 row1\" >1</th>\n",
              "      <td id=\"T_f3020_row1_col0\" class=\"data row1 col0\" >Celular</td>\n",
              "      <td id=\"T_f3020_row1_col1\" class=\"data row1 col1\" >10</td>\n",
              "      <td id=\"T_f3020_row1_col2\" class=\"data row1 col2\" >500</td>\n",
              "      <td id=\"T_f3020_row1_col3\" class=\"data row1 col3\" >450</td>\n",
              "      <td id=\"T_f3020_row1_col4\" class=\"data row1 col4\" >$5,000.00</td>\n",
              "      <td id=\"T_f3020_row1_col5\" class=\"data row1 col5\" >$18,000.00</td>\n",
              "    </tr>\n",
              "    <tr>\n",
              "      <th id=\"T_f3020_level0_row2\" class=\"row_heading level0 row2\" >2</th>\n",
              "      <td id=\"T_f3020_row2_col0\" class=\"data row2 col0\" >Tablet</td>\n",
              "      <td id=\"T_f3020_row2_col1\" class=\"data row2 col1\" >18</td>\n",
              "      <td id=\"T_f3020_row2_col2\" class=\"data row2 col2\" >300</td>\n",
              "      <td id=\"T_f3020_row2_col3\" class=\"data row2 col3\" >270</td>\n",
              "      <td id=\"T_f3020_row2_col4\" class=\"data row2 col4\" >$5,400.00</td>\n",
              "      <td id=\"T_f3020_row2_col5\" class=\"data row2 col5\" >$8,640.00</td>\n",
              "    </tr>\n",
              "    <tr>\n",
              "      <th id=\"T_f3020_level0_row3\" class=\"row_heading level0 row3\" >3</th>\n",
              "      <td id=\"T_f3020_row3_col0\" class=\"data row3 col0\" >Monitor</td>\n",
              "      <td id=\"T_f3020_row3_col1\" class=\"data row3 col1\" >35</td>\n",
              "      <td id=\"T_f3020_row3_col2\" class=\"data row3 col2\" >200</td>\n",
              "      <td id=\"T_f3020_row3_col3\" class=\"data row3 col3\" >180</td>\n",
              "      <td id=\"T_f3020_row3_col4\" class=\"data row3 col4\" >$7,000.00</td>\n",
              "      <td id=\"T_f3020_row3_col5\" class=\"data row3 col5\" >$0.00</td>\n",
              "    </tr>\n",
              "    <tr>\n",
              "      <th id=\"T_f3020_level0_row4\" class=\"row_heading level0 row4\" >4</th>\n",
              "      <td id=\"T_f3020_row4_col0\" class=\"data row4 col0\" >Teclado</td>\n",
              "      <td id=\"T_f3020_row4_col1\" class=\"data row4 col1\" >50</td>\n",
              "      <td id=\"T_f3020_row4_col2\" class=\"data row4 col2\" >50</td>\n",
              "      <td id=\"T_f3020_row4_col3\" class=\"data row4 col3\" >45</td>\n",
              "      <td id=\"T_f3020_row4_col4\" class=\"data row4 col4\" >$2,500.00</td>\n",
              "      <td id=\"T_f3020_row4_col5\" class=\"data row4 col5\" >$0.00</td>\n",
              "    </tr>\n",
              "  </tbody>\n",
              "</table>\n"
            ]
          },
          "metadata": {},
          "execution_count": 30
        }
      ]
    }
  ]
}